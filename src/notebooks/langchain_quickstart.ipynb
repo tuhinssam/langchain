{
 "cells": [
  {
   "cell_type": "code",
   "execution_count": 1,
   "metadata": {},
   "outputs": [
    {
     "name": "stderr",
     "output_type": "stream",
     "text": [
      "/Users/tuhinsamanta/Documents/Projects/langchain/.venv/lib/python3.9/site-packages/urllib3/__init__.py:34: NotOpenSSLWarning: urllib3 v2 only supports OpenSSL 1.1.1+, currently the 'ssl' module is compiled with 'LibreSSL 2.8.3'. See: https://github.com/urllib3/urllib3/issues/3020\n",
      "  warnings.warn(\n"
     ]
    }
   ],
   "source": [
    "from langchain_openai import ChatOpenAI\n",
    "\n",
    "llm = ChatOpenAI()"
   ]
  },
  {
   "cell_type": "code",
   "execution_count": 2,
   "metadata": {},
   "outputs": [
    {
     "data": {
      "text/plain": [
       "AIMessage(content=\"Langsmith can help with testing in the following ways:\\n\\n1. Test Automation: Langsmith can generate test cases automatically based on the specifications or requirements of the software. It can create various inputs, simulate user interactions, and generate expected outputs for testing different functionalities. This saves time and effort in manually creating test cases.\\n\\n2. Test Data Generation: Langsmith can automatically generate test data for different scenarios and edge cases. It can create a wide range of inputs, including valid and invalid data, to thoroughly test the software's behavior.\\n\\n3. Test Coverage Analysis: Langsmith can analyze the codebase and provide insights into the test coverage. It identifies areas of the code that are not covered by existing tests, helping testers ensure comprehensive test coverage.\\n\\n4. Regression Testing: Langsmith can automatically perform regression testing by re-running tests on modified code to identify any unintended side effects or bugs introduced during development. It helps ensure that existing functionalities continue to work as expected after code changes.\\n\\n5. Performance Testing: Langsmith can simulate a large number of users or stress test the software to evaluate its performance under different load conditions. It helps identify bottlenecks, resource limitations, or performance issues that may arise during real-world usage.\\n\\n6. Bug Detection and Diagnosis: Langsmith can help identify potential bugs or anomalies in the software by analyzing code patterns and behavior. It can analyze code complexity, identify potential memory leaks, and detect common programming errors.\\n\\nOverall, Langsmith's AI capabilities can assist in automating various aspects of testing, improving efficiency, and enhancing the overall quality of software testing processes.\")"
      ]
     },
     "execution_count": 2,
     "metadata": {},
     "output_type": "execute_result"
    }
   ],
   "source": [
    "llm.invoke(\"how can langsmith help with testing?\")"
   ]
  },
  {
   "cell_type": "code",
   "execution_count": 3,
   "metadata": {},
   "outputs": [],
   "source": [
    "from langchain_core.prompts import ChatPromptTemplate\n",
    "prompt = ChatPromptTemplate.from_messages([\n",
    "    (\"system\", \"You are world class technical documentation writer.\"),\n",
    "    (\"user\", \"{input}\")\n",
    "])"
   ]
  },
  {
   "cell_type": "code",
   "execution_count": 4,
   "metadata": {},
   "outputs": [],
   "source": [
    "chain = prompt | llm "
   ]
  },
  {
   "cell_type": "code",
   "execution_count": 5,
   "metadata": {},
   "outputs": [
    {
     "data": {
      "text/plain": [
       "AIMessage(content='Langsmith can be a valuable tool for testing in several ways:\\n\\n1. Test Case Documentation: Langsmith can help in creating clear and concise test case documentation. It provides a platform to define test cases in a structured manner, including input data, expected results, and any preconditions or assumptions. This documentation can be easily shared with the testing team, ensuring everyone is on the same page.\\n\\n2. Test Scenario Management: Langsmith allows for the creation and management of test scenarios. Test scenarios are a collection of related test cases that simulate real-world usage scenarios. With Langsmith, you can organize and execute these test scenarios efficiently, ensuring comprehensive coverage of your application.\\n\\n3. Test Data Generation: Langsmith can assist in generating test data for various scenarios. It provides the capability to define data templates and rules, which can be used to automatically generate test data. This helps in simulating different data scenarios, reducing manual effort and ensuring thorough testing.\\n\\n4. Test Execution and Reporting: Langsmith provides a platform for executing test cases and capturing test results. It allows for easy tracking of test progress, including test case status, execution time, and any failures or defects encountered. This information can be used to generate comprehensive test reports, facilitating effective communication and issue resolution.\\n\\n5. Test Automation Integration: Langsmith can integrate with test automation frameworks, allowing for seamless execution of automated tests. It provides a centralized platform for managing and executing automated test scripts, ensuring consistency and efficiency in the testing process.\\n\\nOverall, Langsmith can streamline test case documentation, scenario management, data generation, execution, and reporting, making testing more efficient and effective.')"
      ]
     },
     "execution_count": 5,
     "metadata": {},
     "output_type": "execute_result"
    }
   ],
   "source": [
    "chain.invoke({\"input\": \"how can langsmith help with testing?\"})"
   ]
  },
  {
   "cell_type": "code",
   "execution_count": 6,
   "metadata": {},
   "outputs": [],
   "source": [
    "from langchain_core.output_parsers import StrOutputParser\n",
    "\n",
    "output_parser = StrOutputParser()"
   ]
  },
  {
   "cell_type": "code",
   "execution_count": 7,
   "metadata": {},
   "outputs": [],
   "source": [
    "chain = prompt | llm | output_parser"
   ]
  },
  {
   "cell_type": "code",
   "execution_count": 8,
   "metadata": {},
   "outputs": [
    {
     "data": {
      "text/plain": [
       "\"Langsmith, a powerful language model, can assist with testing in various ways:\\n\\n1. Test case generation: Langsmith can generate test cases based on given specifications or requirements. It can analyze the input space, identify potential edge cases, and generate test inputs to cover different scenarios.\\n\\n2. Test script automation: Langsmith can help automate the creation of test scripts by generating code snippets or test scripts in different programming languages. This can save time and effort for testers by providing examples or templates that can be customized as needed.\\n\\n3. Test data generation: Testing often requires a wide range of test data to cover different scenarios. Langsmith can generate synthetic test data based on specific criteria, such as valid and invalid inputs, boundary values, or random data. This can help in testing the system's robustness and handling of various inputs.\\n\\n4. Test result analysis: After executing test cases, Langsmith can assist in analyzing the test results by providing insights and suggestions. It can help identify patterns, common issues, or potential improvements based on the observed outcomes.\\n\\n5. Test documentation: Langsmith can assist in creating test documentation by generating clear and concise test case descriptions, test plans, or test reports. It can help ensure that the documentation is comprehensive, consistent, and easily understandable for other stakeholders.\\n\\n6. Test scenario exploration: Langsmith can help explore different testing scenarios by providing insights into potential paths, inputs, or combinations to consider. It can assist in the identification of test cases that may not be obvious, ensuring better test coverage.\\n\\n7. Test environment setup: Langsmith can provide guidance on setting up test environments, including dependencies, configurations, or test data. It can help testers with the necessary steps and instructions to create a suitable testing environment.\\n\\nOverall, Langsmith's capabilities in understanding requirements, generating test cases, automating test scripts, analyzing results, and providing relevant insights can significantly enhance the testing process and improve the overall quality of the software being tested.\""
      ]
     },
     "execution_count": 8,
     "metadata": {},
     "output_type": "execute_result"
    }
   ],
   "source": [
    "chain.invoke({\"input\": \"how can langsmith help with testing?\"})"
   ]
  },
  {
   "cell_type": "code",
   "execution_count": null,
   "metadata": {},
   "outputs": [],
   "source": []
  }
 ],
 "metadata": {
  "kernelspec": {
   "display_name": ".venv",
   "language": "python",
   "name": "python3"
  },
  "language_info": {
   "codemirror_mode": {
    "name": "ipython",
    "version": 3
   },
   "file_extension": ".py",
   "mimetype": "text/x-python",
   "name": "python",
   "nbconvert_exporter": "python",
   "pygments_lexer": "ipython3",
   "version": "3.9.6"
  }
 },
 "nbformat": 4,
 "nbformat_minor": 2
}
